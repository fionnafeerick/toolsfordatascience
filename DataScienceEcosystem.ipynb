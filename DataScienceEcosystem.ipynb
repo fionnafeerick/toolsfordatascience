{
 "cells": [
  {
   "cell_type": "markdown",
   "id": "19a6eb7d-15eb-4779-b882-be65e3c23161",
   "metadata": {},
   "source": [
    "# Data Science Tools and Ecosystem"
   ]
  },
  {
   "cell_type": "markdown",
   "id": "f0358d10-3e11-4b80-adcf-4d69210d0821",
   "metadata": {},
   "source": [
    "In this notebook, Data Science Tools and Ecosystem are summarized."
   ]
  },
  {
   "cell_type": "markdown",
   "id": "f91f23f1-e27c-471e-aedd-9a13ae4da69f",
   "metadata": {},
   "source": [
    "**Objectives:**\n",
    "* List popular languages for Data Science\n",
    "* List common libraries used by Data Scientists \n",
    "* Evaluate arithmetic expressions in Python"
   ]
  },
  {
   "cell_type": "markdown",
   "id": "9d87fc04-26f8-48c6-8bca-dd07edd9b7eb",
   "metadata": {
    "tags": []
   },
   "source": [
    "Some of the popular languages that Data Scientists use are:\n",
    "1. Python\n",
    "2. R\n",
    "3. JavaScript \n",
    "4. Java \n",
    "5. C++\n",
    "6. Julia \n",
    "7. Scala \n",
    "8. SQL"
   ]
  },
  {
   "cell_type": "markdown",
   "id": "1cd1220f-ab4d-4677-9aef-2f9df7db0bae",
   "metadata": {
    "tags": []
   },
   "source": [
    "Some of the commonly used libraries used by Data Scientists include:\n",
    "1. NumPy \n",
    "2. pandas \n",
    "3. matplotlib\n",
    "4. dplyr \n",
    "5. caret\n"
   ]
  },
  {
   "cell_type": "markdown",
   "id": "85e5527b-8275-4cce-b657-f2f18c19f03c",
   "metadata": {},
   "source": [
    "|Data Science Tools|\n",
    "|------------------|\n",
    "|Jupyter Notebook|\n",
    "|Apache Zeppelin|\n",
    "|RStudio|\n"
   ]
  },
  {
   "cell_type": "markdown",
   "id": "d603c213-cac6-4fd2-a4da-fc41f8033ccd",
   "metadata": {},
   "source": [
    "### Below are a few examples of evaluating arithmetic expressions in Python"
   ]
  },
  {
   "cell_type": "code",
   "execution_count": 3,
   "id": "75c97ef8-52e5-4d98-bce8-da95e7775408",
   "metadata": {
    "tags": []
   },
   "outputs": [
    {
     "data": {
      "text/plain": [
       "17"
      ]
     },
     "execution_count": 3,
     "metadata": {},
     "output_type": "execute_result"
    }
   ],
   "source": [
    "(3*4)+5 #this is a simple arithmetic example where numbers are multiplied and then added."
   ]
  },
  {
   "cell_type": "code",
   "execution_count": 4,
   "id": "2c0e7f91-3ce5-4f35-858a-09f1d15ea6c9",
   "metadata": {
    "tags": []
   },
   "outputs": [
    {
     "data": {
      "text/plain": [
       "33.333333333333336"
      ]
     },
     "execution_count": 4,
     "metadata": {},
     "output_type": "execute_result"
    }
   ],
   "source": [
    "200/6 #this will convert 200 minutes to hours by dividing by 60"
   ]
  },
  {
   "cell_type": "markdown",
   "id": "18b375c8-c48f-4918-8d68-8171b66ad52c",
   "metadata": {
    "tags": []
   },
   "source": [
    "## Author \n",
    "Fionna Feerick"
   ]
  }
 ],
 "metadata": {
  "kernelspec": {
   "display_name": "Python",
   "language": "python",
   "name": "conda-env-python-py"
  },
  "language_info": {
   "codemirror_mode": {
    "name": "ipython",
    "version": 3
   },
   "file_extension": ".py",
   "mimetype": "text/x-python",
   "name": "python",
   "nbconvert_exporter": "python",
   "pygments_lexer": "ipython3",
   "version": "3.7.12"
  }
 },
 "nbformat": 4,
 "nbformat_minor": 5
}
